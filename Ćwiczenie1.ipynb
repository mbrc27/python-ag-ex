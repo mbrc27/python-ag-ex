{
 "cells": [
  {
   "cell_type": "markdown",
   "metadata": {},
   "source": [
    "# Ćwiczenie 1 - Wprowadzenie do pythona"
   ]
  },
  {
   "cell_type": "markdown",
   "metadata": {},
   "source": [
    "## Proste typy zmiennych"
   ]
  },
  {
   "cell_type": "code",
   "execution_count": 30,
   "metadata": {
    "collapsed": false
   },
   "outputs": [
    {
     "name": "stdout",
     "output_type": "stream",
     "text": [
      "1.0\n"
     ]
    },
    {
     "data": {
      "text/plain": [
       "False"
      ]
     },
     "execution_count": 30,
     "metadata": {},
     "output_type": "execute_result"
    }
   ],
   "source": [
    "a = 1 #zmienna typu number (integer)\n",
    "b = 1.0 #zmienna typu number (float)\n",
    "c = float(a)\n",
    "print(c) #drukowanie wynikowych danych, w przypadku jupyter notebook wystarczy w ostatnij linii dać zmienną\n",
    "d = \"Abc\" # zmienna typu string\n",
    "e = None\n",
    "f = True\n",
    "g = False\n",
    "g"
   ]
  },
  {
   "cell_type": "markdown",
   "metadata": {},
   "source": [
    "## Złożone typy zmiennych"
   ]
  },
  {
   "cell_type": "code",
   "execution_count": 47,
   "metadata": {
    "collapsed": false
   },
   "outputs": [],
   "source": [
    "item_list = [1,2,3, \"a\"] #lista może przechowywać dane różnego typu\n",
    "item_dict = {\"name\": \"Marcin\", \"score\": 100} # Słownik\n",
    "item_tuple = (1,2,3, \"a\") #krotka "
   ]
  },
  {
   "cell_type": "markdown",
   "metadata": {},
   "source": [
    "## Iteracje i operatory logiczne"
   ]
  },
  {
   "cell_type": "code",
   "execution_count": 48,
   "metadata": {
    "collapsed": false
   },
   "outputs": [
    {
     "name": "stdout",
     "output_type": "stream",
     "text": [
      "1\n",
      "2\n",
      "3\n",
      "a\n",
      "~~~~~~~~~~~~\n",
      "1\n",
      "2\n",
      "3\n",
      "a\n"
     ]
    }
   ],
   "source": [
    "#item_list[0] = 'abcdef'\n",
    "#item_tuple[0] = 'abcdef'\n",
    "for i in item_list:\n",
    "    print(i)\n",
    "print('~~~~~~~~~~~~')\n",
    "for i in item_tuple:\n",
    "    print(i)"
   ]
  },
  {
   "cell_type": "code",
   "execution_count": 49,
   "metadata": {
    "collapsed": false
   },
   "outputs": [
    {
     "name": "stdout",
     "output_type": "stream",
     "text": [
      "Klucz: name\n",
      "Klucz: Marcin\n",
      "---------\n",
      "Klucz: score\n",
      "Klucz: 100\n",
      "---------\n"
     ]
    }
   ],
   "source": [
    "for key, value in item_dict.items():\n",
    "    print(\"Klucz:\", key)    \n",
    "    print(\"Klucz:\", value)\n",
    "    print('---------')"
   ]
  },
  {
   "cell_type": "code",
   "execution_count": 42,
   "metadata": {
    "collapsed": false
   },
   "outputs": [
    {
     "name": "stdout",
     "output_type": "stream",
     "text": [
      "Brawo Marcin Uzyskałeś 100 pkt!\n"
     ]
    }
   ],
   "source": [
    "#item_dict['name'] = 0\n",
    "if item_dict['name'] == 'Marcin':\n",
    "    item_dict['score'] = 100\n",
    "    print('Brawo', item_dict['name'], 'Uzyskałeś 100 pkt!')\n",
    "elif type(item_dict['name']) == 'str':\n",
    "    item_dict['score'] = 0\n",
    "    print('Niestety', item_dict['name'], 'Uzyskałeś 0 pkt, zapraszam za rok na poprawę')\n",
    "else:\n",
    "    print('Podaj najpierw imię!')\n",
    "    #raise Exception('Podaj najpierw imię!', item_dict['name'])"
   ]
  }
 ],
 "metadata": {
  "anaconda-cloud": {},
  "kernelspec": {
   "display_name": "Python [default]",
   "language": "python",
   "name": "python3"
  },
  "language_info": {
   "codemirror_mode": {
    "name": "ipython",
    "version": 3
   },
   "file_extension": ".py",
   "mimetype": "text/x-python",
   "name": "python",
   "nbconvert_exporter": "python",
   "pygments_lexer": "ipython3",
   "version": "3.5.2"
  }
 },
 "nbformat": 4,
 "nbformat_minor": 1
}

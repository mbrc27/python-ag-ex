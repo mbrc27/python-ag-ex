{
 "cells": [
  {
   "cell_type": "markdown",
   "metadata": {},
   "source": [
    "# Ćwiczenie 1 - Wprowadzenie do pythona"
   ]
  },
  {
   "cell_type": "markdown",
   "metadata": {},
   "source": [
    "## Proste typy zmiennych"
   ]
  },
  {
   "cell_type": "code",
   "execution_count": 30,
   "metadata": {
    "collapsed": false
   },
   "outputs": [
    {
     "name": "stdout",
     "output_type": "stream",
     "text": [
      "1.0\n"
     ]
    },
    {
     "data": {
      "text/plain": [
       "False"
      ]
     },
     "execution_count": 30,
     "metadata": {},
     "output_type": "execute_result"
    }
   ],
   "source": [
    "a = 1 #zmienna typu number (integer)\n",
    "b = 1.0 #zmienna typu number (float)\n",
    "c = float(a)\n",
    "print(c) #drukowanie wynikowych danych, w przypadku jupyter notebook wystarczy w ostatnij linii dać zmienną\n",
    "d = \"Abc\" # zmienna typu string\n",
    "e = None\n",
    "f = True\n",
    "g = False\n",
    "g"
   ]
  },
  {
   "cell_type": "markdown",
   "metadata": {},
   "source": [
    "## Złożone typy zmiennych"
   ]
  },
  {
   "cell_type": "code",
   "execution_count": 47,
   "metadata": {
    "collapsed": false
   },
   "outputs": [],
   "source": [
    "item_list = [1,2,3, \"a\"] #lista może przechowywać dane różnego typu\n",
    "item_dict = {\"name\": \"Marcin\", \"score\": 100} # Słownik\n",
    "item_tuple = (1,2,3, \"a\") #krotka "
   ]
  },
  {
   "cell_type": "markdown",
   "metadata": {},
   "source": [
    "## Iteracje i operatory logiczne"
   ]
  },
  {
   "cell_type": "code",
   "execution_count": 48,
   "metadata": {
    "collapsed": false
   },
   "outputs": [
    {
     "name": "stdout",
     "output_type": "stream",
     "text": [
      "1\n",
      "2\n",
      "3\n",
      "a\n",
      "~~~~~~~~~~~~\n",
      "1\n",
      "2\n",
      "3\n",
      "a\n"
     ]
    }
   ],
   "source": [
    "#item_list[0] = 'abcdef'\n",
    "#item_tuple[0] = 'abcdef'\n",
    "for i in item_list:\n",
    "    print(i)\n",
    "print('~~~~~~~~~~~~')\n",
    "for i in item_tuple:\n",
    "    print(i)"
   ]
  },
  {
   "cell_type": "code",
   "execution_count": 49,
   "metadata": {
    "collapsed": false
   },
   "outputs": [
    {
     "name": "stdout",
     "output_type": "stream",
     "text": [
      "Klucz: name\n",
      "Klucz: Marcin\n",
      "---------\n",
      "Klucz: score\n",
      "Klucz: 100\n",
      "---------\n"
     ]
    }
   ],
   "source": [
    "for key, value in item_dict.items():\n",
    "    print(\"Klucz:\", key)    \n",
    "    print(\"Klucz:\", value)\n",
    "    print('---------')"
   ]
  },
  {
   "cell_type": "code",
   "execution_count": 42,
   "metadata": {
    "collapsed": false
   },
   "outputs": [
    {
     "name": "stdout",
     "output_type": "stream",
     "text": [
      "Brawo Marcin Uzyskałeś 100 pkt!\n"
     ]
    }
   ],
   "source": [
    "#item_dict['name'] = 0\n",
    "if item_dict['name'] == 'Marcin':\n",
    "    item_dict['score'] = 100\n",
    "    print('Brawo', item_dict['name'], 'Uzyskałeś 100 pkt!')\n",
    "elif type(item_dict['name']) == 'str':\n",
    "    item_dict['score'] = 0\n",
    "    print('Niestety', item_dict['name'], 'Uzyskałeś 0 pkt, zapraszam za rok na poprawę')\n",
    "else:\n",
    "    print('Podaj najpierw imię!')\n",
    "    #raise Exception('Podaj najpierw imię!', item_dict['name'])"
   ]
  },
  {
   "cell_type": "markdown",
   "metadata": {},
   "source": [
    "## funkcje"
   ]
  },
  {
   "cell_type": "code",
   "execution_count": 3,
   "metadata": {
    "collapsed": false
   },
   "outputs": [
    {
     "data": {
      "text/plain": [
       "'Cześć Marcin! Miło cię widzieć!'"
      ]
     },
     "execution_count": 3,
     "metadata": {},
     "output_type": "execute_result"
    }
   ],
   "source": [
    "def hi(name):\n",
    "    #return \"Cześć \" + name + \"! Miło cię widzieć!\"\n",
    "    #return \"Cześć {0}! Miło cię widzieć!\".format(name)\n",
    "    return \"Cześć {name}! Miło cię widzieć!\".format(name=name)\n",
    "\n",
    "hi(\"Marcin\")"
   ]
  },
  {
   "cell_type": "code",
   "execution_count": 13,
   "metadata": {
    "collapsed": false
   },
   "outputs": [
    {
     "data": {
      "text/plain": [
       "0"
      ]
     },
     "execution_count": 13,
     "metadata": {},
     "output_type": "execute_result"
    }
   ],
   "source": [
    "def kwadratowa(x):\n",
    "    #2x^2 +3x + 1\n",
    "    return 2 * pow(x, 2) + 3*x + 1\n",
    "\n",
    "kwadratowa(-1)"
   ]
  },
  {
   "cell_type": "code",
   "execution_count": 40,
   "metadata": {
    "collapsed": false
   },
   "outputs": [
    {
     "name": "stdout",
     "output_type": "stream",
     "text": [
      "10 loops, best of 3: 67 ms per loop\n"
     ]
    }
   ],
   "source": [
    "def miejsce_zerowe():\n",
    "    for x in range(-100000, 300000):\n",
    "        czy_zero = kwadratowa(x)\n",
    "        if czy_zero == 0:\n",
    "            return \"zero! {0}\".format(x)\n",
    "        \n",
    "%timeit miejsce_zerowe()"
   ]
  },
  {
   "cell_type": "code",
   "execution_count": 37,
   "metadata": {
    "collapsed": false
   },
   "outputs": [
    {
     "name": "stdout",
     "output_type": "stream",
     "text": [
      "The slowest run took 5.75 times longer than the fastest. This could mean that an intermediate result is being cached.\n",
      "100000 loops, best of 3: 2.54 µs per loop\n"
     ]
    }
   ],
   "source": [
    "from math import sqrt\n",
    "\n",
    "def delta(b, a, c):\n",
    "    return pow(b, 2) -(4 * a * c)\n",
    "\n",
    "def x0(a, b, delta):\n",
    "    if delta == 0:\n",
    "        x0 = -b /(2*a)\n",
    "        return \"Znaleziono jedno miejsce zerowe: {0}\".format(x0)\n",
    "    x0 = (-b - sqrt(delta)) / (2*a)\n",
    "    x1 = (-b + sqrt(delta)) / (2*a)\n",
    "    return \"Znaleziono miejsca zerowe, x0: {0}, x1: {1}\".format(x0, x1)\n",
    "\n",
    "%timeit x0(2, 3, delta(3, 2, 1))"
   ]
  },
  {
   "cell_type": "code",
   "execution_count": 67,
   "metadata": {
    "collapsed": false
   },
   "outputs": [
    {
     "data": {
      "text/plain": [
       "[<matplotlib.lines.Line2D at 0x12aafa89ba8>]"
      ]
     },
     "execution_count": 67,
     "metadata": {},
     "output_type": "execute_result"
    },
    {
     "data": {
      "image/png": "[encoded data removed]",
      "text/plain": [
       "<matplotlib.figure.Figure at 0x12aafd22b00>"
      ]
     },
     "metadata": {},
     "output_type": "display_data"
    }
   ],
   "source": [
    "import matplotlib.pyplot as plt\n",
    "import numpy as np\n",
    "\n",
    "%matplotlib inline\n",
    "\n",
    "x = np.linspace(-10, 10, 1000000)\n",
    "y = 2 * pow(x, 2) + 3*x + 1\n",
    "fig, ax = plt.subplots()\n",
    "ax.xaxis.set_ticks(np.arange(-10, 10, 1))\n",
    "plt.axhline(0, color='black')\n",
    "#plt.axvline(0, color='black')\n",
    "ax.plot(x, y)"
   ]
  },
  {
   "cell_type": "code",
   "execution_count": null,
   "metadata": {
    "collapsed": true
   },
   "outputs": [],
   "source": []
  }
 ],
 "metadata": {
  "anaconda-cloud": {},
  "kernelspec": {
   "display_name": "Python [default]",
   "language": "python",
   "name": "python3"
  },
  "language_info": {
   "codemirror_mode": {
    "name": "ipython",
    "version": 3
   },
   "file_extension": ".py",
   "mimetype": "text/x-python",
   "name": "python",
   "nbconvert_exporter": "python",
   "pygments_lexer": "ipython3",
   "version": "3.5.2"
  }
 },
 "nbformat": 4,
 "nbformat_minor": 1
}

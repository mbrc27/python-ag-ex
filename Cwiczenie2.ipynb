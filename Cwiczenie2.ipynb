{
 "cells": [
  {
   "cell_type": "markdown",
   "metadata": {},
   "source": [
    "# Ćwiczenie 2 - Mapowanie Parków Narodowych w Polsce\n",
    "\n",
    "Celem ćwiczenia jest przygotowanie mapy z lokalizacją siedzib parków narodowych w Polsce. Należy ustawić symbolizacje na logo siedziby parku.\n",
    "\n",
    "Dodatkowe zależności:\n",
    "```bash\n",
    "conda install -c anaconda lxml\n",
    "conda install -c anaconda html5lib\n",
    "conda install -c anaconda beautifulsoup4\n",
    "conda install -c anaconda matplotlib\n",
    "```"
   ]
  },
  {
   "cell_type": "code",
   "execution_count": 157,
   "metadata": {
    "collapsed": true
   },
   "outputs": [],
   "source": [
    "#Ładuję wymagane moduły: ArcGIS dla interakcji z mapą, Pandas dla interakcji z danymi\n",
    "from arcgis.gis import GIS\n",
    "import pandas as pd"
   ]
  },
  {
   "cell_type": "code",
   "execution_count": 164,
   "metadata": {
    "collapsed": false
   },
   "outputs": [],
   "source": [
    "#Test działania mapy\n",
    "my_gis = GIS()\n",
    "my_gis.map()"
   ]
  },
  {
   "cell_type": "code",
   "execution_count": 166,
   "metadata": {
    "collapsed": false
   },
   "outputs": [
    {
     "data": {
      "text/html": [
       "<div>\n",
       "<table border=\"1\" class=\"dataframe\">\n",
       "  <thead>\n",
       "    <tr style=\"text-align: right;\">\n",
       "      <th></th>\n",
       "      <th>Nazwa parku</th>\n",
       "      <th>Symbol</th>\n",
       "      <th>Siedziba</th>\n",
       "    </tr>\n",
       "  </thead>\n",
       "  <tbody>\n",
       "    <tr>\n",
       "      <th>0</th>\n",
       "      <td>Babiogórski Park Narodowy</td>\n",
       "      <td>okrzyn jeleni</td>\n",
       "      <td>Zawoja</td>\n",
       "    </tr>\n",
       "    <tr>\n",
       "      <th>1</th>\n",
       "      <td>Białowieski Park Narodowy</td>\n",
       "      <td>żubr</td>\n",
       "      <td>Białowieża</td>\n",
       "    </tr>\n",
       "    <tr>\n",
       "      <th>2</th>\n",
       "      <td>Biebrzański Park Narodowy</td>\n",
       "      <td>batalion (bojownik)</td>\n",
       "      <td>Osowiec-Twierdza</td>\n",
       "    </tr>\n",
       "    <tr>\n",
       "      <th>3</th>\n",
       "      <td>Bieszczadzki Park Narodowy</td>\n",
       "      <td>ryś</td>\n",
       "      <td>Ustrzyki Górne</td>\n",
       "    </tr>\n",
       "    <tr>\n",
       "      <th>4</th>\n",
       "      <td>Bory TucholskiePark Narodowy „Bory Tucholskie”</td>\n",
       "      <td>głuszec</td>\n",
       "      <td>Charzykowy</td>\n",
       "    </tr>\n",
       "  </tbody>\n",
       "</table>\n",
       "</div>"
      ],
      "text/plain": [
       "                                      Nazwa parku               Symbol  \\\n",
       "0                       Babiogórski Park Narodowy        okrzyn jeleni   \n",
       "1                       Białowieski Park Narodowy                 żubr   \n",
       "2                       Biebrzański Park Narodowy  batalion (bojownik)   \n",
       "3                      Bieszczadzki Park Narodowy                  ryś   \n",
       "4  Bory TucholskiePark Narodowy „Bory Tucholskie”              głuszec   \n",
       "\n",
       "           Siedziba  \n",
       "0            Zawoja  \n",
       "1        Białowieża  \n",
       "2  Osowiec-Twierdza  \n",
       "3    Ustrzyki Górne  \n",
       "4        Charzykowy  "
      ]
     },
     "execution_count": 166,
     "metadata": {},
     "output_type": "execute_result"
    }
   ],
   "source": [
    "#Ładujemy dane odnośnie parków narodowych z wikipedii\n",
    "df = pd.read_html('http://pl.wikipedia.org/wiki/Parki_narodowe_w_Polsce')\n",
    "#Pandas szuka na stronie tabel, które może zamienić w ramki danych, należy przeanalizować dane i wybrać interesująca nas tabele\n",
    "df = pd.read_html('http://pl.wikipedia.org/wiki/Parki_narodowe_w_Polsce', header=0, skiprows=[24])[0]\n",
    "#Nie potrzebujemy wszystkich kolumn, zawężamy więc tylko do kilku potrzebnych do wykonania zadania (Nazwa, Symbol, Siedziba)\n",
    "df = df[df.columns[[1,3,6]]]\n",
    "#Zwrócić uwagę na to że Logo pojawia się jako NaN\n",
    "df.head()"
   ]
  },
  {
   "cell_type": "code",
   "execution_count": 160,
   "metadata": {
    "collapsed": false
   },
   "outputs": [],
   "source": [
    "#Tworzymy wizualizacje danych dotyczących parków\n",
    "gis = GIS()\n",
    "fc = gis.content.import_data(df, {\"Address\":\"Siedziba\"})\n",
    "map1 = gis.map('Poland')\n",
    "map1.add_layer(fc)\n",
    "map1"
   ]
  },
  {
   "cell_type": "code",
   "execution_count": 161,
   "metadata": {
    "collapsed": false
   },
   "outputs": [
    {
     "data": {
      "text/html": [
       "<div>\n",
       "<table border=\"1\" class=\"dataframe\">\n",
       "  <thead>\n",
       "    <tr style=\"text-align: right;\">\n",
       "      <th></th>\n",
       "      <th>Logo</th>\n",
       "    </tr>\n",
       "  </thead>\n",
       "  <tbody>\n",
       "    <tr>\n",
       "      <th>0</th>\n",
       "      <td>//upload.wikimedia.org/wikipedia/commons/thumb...</td>\n",
       "    </tr>\n",
       "    <tr>\n",
       "      <th>1</th>\n",
       "      <td>//upload.wikimedia.org/wikipedia/commons/thumb...</td>\n",
       "    </tr>\n",
       "    <tr>\n",
       "      <th>2</th>\n",
       "      <td>//upload.wikimedia.org/wikipedia/commons/thumb...</td>\n",
       "    </tr>\n",
       "    <tr>\n",
       "      <th>3</th>\n",
       "      <td>//upload.wikimedia.org/wikipedia/commons/thumb...</td>\n",
       "    </tr>\n",
       "    <tr>\n",
       "      <th>4</th>\n",
       "      <td>//upload.wikimedia.org/wikipedia/commons/thumb...</td>\n",
       "    </tr>\n",
       "  </tbody>\n",
       "</table>\n",
       "</div>"
      ],
      "text/plain": [
       "                                                Logo\n",
       "0  //upload.wikimedia.org/wikipedia/commons/thumb...\n",
       "1  //upload.wikimedia.org/wikipedia/commons/thumb...\n",
       "2  //upload.wikimedia.org/wikipedia/commons/thumb...\n",
       "3  //upload.wikimedia.org/wikipedia/commons/thumb...\n",
       "4  //upload.wikimedia.org/wikipedia/commons/thumb..."
      ]
     },
     "execution_count": 161,
     "metadata": {},
     "output_type": "execute_result"
    }
   ],
   "source": [
    "#Musimy dodać informację dotyczącą adresu URL miniatur, w tym celu korzystamy z biblioteki BeautifulSoup\n",
    "from bs4 import BeautifulSoup\n",
    "import requests\n",
    "#Ładujemy strone wiki\n",
    "page = requests.get('http://pl.wikipedia.org/wiki/Parki_narodowe_w_Polsce')\n",
    "soup = BeautifulSoup(page.text, \"lxml\")\n",
    "#Szukamy tabeli z parkami\n",
    "table = soup.find_all('table')[0]\n",
    "#Wybieramy wszystkie obrazki\n",
    "tags = table.find_all('img')\n",
    "src_list = []\n",
    "#Dodajemy źródła obrazków do listy\n",
    "for tag in tags:\n",
    "    src_list.append(tag['src'])\n",
    "\n",
    "#Tworzymi ramkę danych pandas\n",
    "img_df = pd.DataFrame(src_list, columns=['Logo'])\n",
    "img_df.head()"
   ]
  },
  {
   "cell_type": "code",
   "execution_count": 162,
   "metadata": {
    "collapsed": false
   },
   "outputs": [
    {
     "data": {
      "text/html": [
       "<div>\n",
       "<table border=\"1\" class=\"dataframe\">\n",
       "  <thead>\n",
       "    <tr style=\"text-align: right;\">\n",
       "      <th></th>\n",
       "      <th>Nazwa parku</th>\n",
       "      <th>Symbol</th>\n",
       "      <th>Siedziba</th>\n",
       "      <th>Logo</th>\n",
       "    </tr>\n",
       "  </thead>\n",
       "  <tbody>\n",
       "    <tr>\n",
       "      <th>0</th>\n",
       "      <td>Babiogórski Park Narodowy</td>\n",
       "      <td>okrzyn jeleni</td>\n",
       "      <td>Zawoja</td>\n",
       "      <td>//upload.wikimedia.org/wikipedia/commons/thumb...</td>\n",
       "    </tr>\n",
       "    <tr>\n",
       "      <th>1</th>\n",
       "      <td>Białowieski Park Narodowy</td>\n",
       "      <td>żubr</td>\n",
       "      <td>Białowieża</td>\n",
       "      <td>//upload.wikimedia.org/wikipedia/commons/thumb...</td>\n",
       "    </tr>\n",
       "    <tr>\n",
       "      <th>2</th>\n",
       "      <td>Biebrzański Park Narodowy</td>\n",
       "      <td>batalion (bojownik)</td>\n",
       "      <td>Osowiec-Twierdza</td>\n",
       "      <td>//upload.wikimedia.org/wikipedia/commons/thumb...</td>\n",
       "    </tr>\n",
       "    <tr>\n",
       "      <th>3</th>\n",
       "      <td>Bieszczadzki Park Narodowy</td>\n",
       "      <td>ryś</td>\n",
       "      <td>Ustrzyki Górne</td>\n",
       "      <td>//upload.wikimedia.org/wikipedia/commons/thumb...</td>\n",
       "    </tr>\n",
       "    <tr>\n",
       "      <th>4</th>\n",
       "      <td>Bory TucholskiePark Narodowy „Bory Tucholskie”</td>\n",
       "      <td>głuszec</td>\n",
       "      <td>Charzykowy</td>\n",
       "      <td>//upload.wikimedia.org/wikipedia/commons/thumb...</td>\n",
       "    </tr>\n",
       "  </tbody>\n",
       "</table>\n",
       "</div>"
      ],
      "text/plain": [
       "                                      Nazwa parku               Symbol  \\\n",
       "0                       Babiogórski Park Narodowy        okrzyn jeleni   \n",
       "1                       Białowieski Park Narodowy                 żubr   \n",
       "2                       Biebrzański Park Narodowy  batalion (bojownik)   \n",
       "3                      Bieszczadzki Park Narodowy                  ryś   \n",
       "4  Bory TucholskiePark Narodowy „Bory Tucholskie”              głuszec   \n",
       "\n",
       "           Siedziba                                               Logo  \n",
       "0            Zawoja  //upload.wikimedia.org/wikipedia/commons/thumb...  \n",
       "1        Białowieża  //upload.wikimedia.org/wikipedia/commons/thumb...  \n",
       "2  Osowiec-Twierdza  //upload.wikimedia.org/wikipedia/commons/thumb...  \n",
       "3    Ustrzyki Górne  //upload.wikimedia.org/wikipedia/commons/thumb...  \n",
       "4        Charzykowy  //upload.wikimedia.org/wikipedia/commons/thumb...  "
      ]
     },
     "execution_count": 162,
     "metadata": {},
     "output_type": "execute_result"
    }
   ],
   "source": [
    "#Łączymy dane\n",
    "final_df = df.merge(img_df, left_index=True, right_index=True)\n",
    "final_df.head()"
   ]
  },
  {
   "cell_type": "code",
   "execution_count": 163,
   "metadata": {
    "collapsed": false
   },
   "outputs": [],
   "source": [
    "#Aby utworzyć symbolizacje parków musimy stworzyć renderer dla naszej warstwy, związane jest to z ArcGIS JavaScript API oraz\n",
    "#Sposobem wizualizacji danych w \"Web ArcGISie\"\n",
    "\n",
    "#Tworzymy słownik renderer\n",
    "renderer = {\n",
    "    \"type\" : \"uniqueValue\",\n",
    "    \"field1\" : \"Symbol\",\n",
    "    \"uniqueValueInfos\": []\n",
    "}\n",
    "#Iterując ramkę danych uzupełniamy informacje na temat symboli naszego renderera\n",
    "for row in final_df[['Symbol', 'Logo']].iterrows():\n",
    "    #print(row[1][0])\n",
    "    renderer['uniqueValueInfos'].append({\n",
    "    \"value\": row[1][0],\n",
    "    \"symbol\": {\n",
    "        \"angle\": -360,\n",
    "        \"xoffset\": 0,\n",
    "        \"yoffset\": 0,\n",
    "        \"type\": \"esriPMS\",\n",
    "        \"url\": row[1][1],\n",
    "        \"width\": 37.5,\n",
    "        \"height\": 37.5    \n",
    "            }\n",
    "    })\n",
    "#Dodajemy defaultowy symbol (dla uniknięcia dziwnych błędów API)\n",
    "renderer['defaultSymbol'] = renderer['uniqueValueInfos'][0]['symbol']\n",
    "#Tworzymy nowy feature class\n",
    "fc = gis.content.import_data(final_df, {\"Address\":\"Siedziba\"})\n",
    "#przypisujemy dla nowoutworzonego fc nowy renderer\n",
    "fc.properties['layerDefinition']['drawingInfo']['renderer'] = renderer\n",
    "#tworzymy mape\n",
    "map2 = gis.map('Poland')\n",
    "map2.add_layer(fc)\n",
    "map2"
   ]
  },
  {
   "cell_type": "markdown",
   "metadata": {},
   "source": [
    "## Inne przykłady"
   ]
  },
  {
   "cell_type": "code",
   "execution_count": 171,
   "metadata": {
    "collapsed": false
   },
   "outputs": [
    {
     "data": {
      "text/html": [
       "<div>\n",
       "<table border=\"1\" class=\"dataframe\">\n",
       "  <thead>\n",
       "    <tr style=\"text-align: right;\">\n",
       "      <th></th>\n",
       "      <th>Nazwa parku</th>\n",
       "      <th>Symbol</th>\n",
       "      <th>Utworzono</th>\n",
       "      <th>Siedziba</th>\n",
       "    </tr>\n",
       "  </thead>\n",
       "  <tbody>\n",
       "    <tr>\n",
       "      <th>0</th>\n",
       "      <td>Babiogórski Park Narodowy</td>\n",
       "      <td>okrzyn jeleni</td>\n",
       "      <td>1954</td>\n",
       "      <td>Zawoja</td>\n",
       "    </tr>\n",
       "    <tr>\n",
       "      <th>1</th>\n",
       "      <td>Białowieski Park Narodowy</td>\n",
       "      <td>żubr</td>\n",
       "      <td>1932</td>\n",
       "      <td>Białowieża</td>\n",
       "    </tr>\n",
       "    <tr>\n",
       "      <th>2</th>\n",
       "      <td>Biebrzański Park Narodowy</td>\n",
       "      <td>batalion (bojownik)</td>\n",
       "      <td>1993</td>\n",
       "      <td>Osowiec-Twierdza</td>\n",
       "    </tr>\n",
       "    <tr>\n",
       "      <th>3</th>\n",
       "      <td>Bieszczadzki Park Narodowy</td>\n",
       "      <td>ryś</td>\n",
       "      <td>1973</td>\n",
       "      <td>Ustrzyki Górne</td>\n",
       "    </tr>\n",
       "    <tr>\n",
       "      <th>4</th>\n",
       "      <td>Bory TucholskiePark Narodowy „Bory Tucholskie”</td>\n",
       "      <td>głuszec</td>\n",
       "      <td>1996</td>\n",
       "      <td>Charzykowy</td>\n",
       "    </tr>\n",
       "  </tbody>\n",
       "</table>\n",
       "</div>"
      ],
      "text/plain": [
       "                                      Nazwa parku               Symbol  \\\n",
       "0                       Babiogórski Park Narodowy        okrzyn jeleni   \n",
       "1                       Białowieski Park Narodowy                 żubr   \n",
       "2                       Biebrzański Park Narodowy  batalion (bojownik)   \n",
       "3                      Bieszczadzki Park Narodowy                  ryś   \n",
       "4  Bory TucholskiePark Narodowy „Bory Tucholskie”              głuszec   \n",
       "\n",
       "   Utworzono          Siedziba  \n",
       "0       1954            Zawoja  \n",
       "1       1932        Białowieża  \n",
       "2       1993  Osowiec-Twierdza  \n",
       "3       1973    Ustrzyki Górne  \n",
       "4       1996        Charzykowy  "
      ]
     },
     "execution_count": 171,
     "metadata": {},
     "output_type": "execute_result"
    }
   ],
   "source": [
    "df2 = pd.read_html('http://pl.wikipedia.org/wiki/Parki_narodowe_w_Polsce', header=0, skiprows=[24])[0]\n",
    "#Nie potrzebujemy wszystkich kolumn, zawężamy więc tylko do kilku potrzebnych do wykonania zadania (Nazwa, Symbol, Siedziba)\n",
    "df2 = df2[df2.columns[[1,3,4,6]]]\n",
    "df2.head()"
   ]
  },
  {
   "cell_type": "code",
   "execution_count": 176,
   "metadata": {
    "collapsed": true
   },
   "outputs": [],
   "source": [
    "fc2 = gis.content.import_data(df2, {\"Address\":\"Siedziba\"})\n",
    "map3 = gis.map('Poland')\n",
    "map3.add_layer(fc2, {\"renderer\":\"ClassedSizeRenderer\",\n",
    "               \"field_name\": \"Utworzono\"})\n",
    "map3"
   ]
  },
  {
   "cell_type": "code",
   "execution_count": 181,
   "metadata": {
    "collapsed": false
   },
   "outputs": [
    {
     "data": {
      "text/html": [
       "<div>\n",
       "<table border=\"1\" class=\"dataframe\">\n",
       "  <thead>\n",
       "    <tr style=\"text-align: right;\">\n",
       "      <th></th>\n",
       "      <th>Nazwa parku</th>\n",
       "      <th>Symbol</th>\n",
       "      <th>Utworzono</th>\n",
       "      <th>Siedziba</th>\n",
       "    </tr>\n",
       "  </thead>\n",
       "  <tbody>\n",
       "    <tr>\n",
       "      <th>1</th>\n",
       "      <td>Białowieski Park Narodowy</td>\n",
       "      <td>żubr</td>\n",
       "      <td>1932</td>\n",
       "      <td>Białowieża</td>\n",
       "    </tr>\n",
       "    <tr>\n",
       "      <th>13</th>\n",
       "      <td>Pieniński Park Narodowy</td>\n",
       "      <td>Trzy Korony</td>\n",
       "      <td>1932</td>\n",
       "      <td>Krościenko nad Dunajcem</td>\n",
       "    </tr>\n",
       "    <tr>\n",
       "      <th>17</th>\n",
       "      <td>SzzwiętokrzyskiŚwiętokrzyski Park Narodowy</td>\n",
       "      <td>jeleń</td>\n",
       "      <td>1950</td>\n",
       "      <td>Bodzentyn</td>\n",
       "    </tr>\n",
       "    <tr>\n",
       "      <th>0</th>\n",
       "      <td>Babiogórski Park Narodowy</td>\n",
       "      <td>okrzyn jeleni</td>\n",
       "      <td>1954</td>\n",
       "      <td>Zawoja</td>\n",
       "    </tr>\n",
       "    <tr>\n",
       "      <th>18</th>\n",
       "      <td>Tatrzański Park Narodowy</td>\n",
       "      <td>kozica tatrzańska</td>\n",
       "      <td>1954</td>\n",
       "      <td>Zakopane</td>\n",
       "    </tr>\n",
       "  </tbody>\n",
       "</table>\n",
       "</div>"
      ],
      "text/plain": [
       "                                   Nazwa parku             Symbol  Utworzono  \\\n",
       "1                    Białowieski Park Narodowy               żubr       1932   \n",
       "13                     Pieniński Park Narodowy        Trzy Korony       1932   \n",
       "17  SzzwiętokrzyskiŚwiętokrzyski Park Narodowy              jeleń       1950   \n",
       "0                    Babiogórski Park Narodowy      okrzyn jeleni       1954   \n",
       "18                    Tatrzański Park Narodowy  kozica tatrzańska       1954   \n",
       "\n",
       "                   Siedziba  \n",
       "1                Białowieża  \n",
       "13  Krościenko nad Dunajcem  \n",
       "17                Bodzentyn  \n",
       "0                    Zawoja  \n",
       "18                 Zakopane  "
      ]
     },
     "execution_count": 181,
     "metadata": {},
     "output_type": "execute_result"
    }
   ],
   "source": [
    "df2.sort_values('Utworzono', inplace=True)\n",
    "df2.head()"
   ]
  },
  {
   "cell_type": "code",
   "execution_count": 185,
   "metadata": {
    "collapsed": false
   },
   "outputs": [
    {
     "data": {
      "image/png": "[encoded data removed]",
      "text/plain": [
       "<matplotlib.figure.Figure at 0x1e3590bcc88>"
      ]
     },
     "metadata": {},
     "output_type": "display_data"
    }
   ],
   "source": [
    "import matplotlib as plt\n",
    "%matplotlib inline\n",
    "\n",
    "ax = df2.plot.hist(by='Utworzono', bins=5)"
   ]
  },
  {
   "cell_type": "code",
   "execution_count": null,
   "metadata": {
    "collapsed": true
   },
   "outputs": [],
   "source": []
  }
 ],
 "metadata": {
  "anaconda-cloud": {},
  "kernelspec": {
   "display_name": "Python [default]",
   "language": "python",
   "name": "python3"
  },
  "language_info": {
   "codemirror_mode": {
    "name": "ipython",
    "version": 3
   },
   "file_extension": ".py",
   "mimetype": "text/x-python",
   "name": "python",
   "nbconvert_exporter": "python",
   "pygments_lexer": "ipython3",
   "version": "3.5.2"
  },
  "widgets": {
   "state": {
    "4fb69bcff029413ba98da782f99ab88d": {
     "views": [
      {
       "cell_index": 10
      }
     ]
    },
    "720f5f5687244fef93199a5e208b5704": {
     "views": [
      {
       "cell_index": 2
      }
     ]
    },
    "8ca2d19fe78c4836ad291df473eb4c83": {
     "views": [
      {
       "cell_index": 7
      }
     ]
    },
    "a56fdfd4b50e428aa44b9cf4eef8a877": {
     "views": [
      {
       "cell_index": 4
      }
     ]
    },
    "e179afa64ead4b6f899b29dbe86167d0": {
     "views": [
      {
       "cell_index": 2
      }
     ]
    }
   },
   "version": "1.2.0"
  }
 },
 "nbformat": 4,
 "nbformat_minor": 0
}

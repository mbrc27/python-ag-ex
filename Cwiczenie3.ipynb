{
 "cells": [
  {
   "cell_type": "markdown",
   "metadata": {},
   "source": [
    "## Ćwiczenie 3"
   ]
  },
  {
   "cell_type": "code",
   "execution_count": 4,
   "metadata": {
    "collapsed": true
   },
   "outputs": [],
   "source": [
    "#Ładuję wymagane moduły: ArcGIS dla interakcji z mapą, Pandas dla interakcji z danymi\n",
    "from arcgis.gis import GIS\n",
    "import pandas as pd\n",
    "from IPython.display import display\n",
    "\n",
    "gis = GIS()"
   ]
  },
  {
   "cell_type": "code",
   "execution_count": 5,
   "metadata": {
    "collapsed": false
   },
   "outputs": [
    {
     "data": {
      "text/html": [
       "<div class=\"item_container\" style=\"height: auto; overflow: hidden; border: 1px solid #cfcfcf; border-radius: 2px; background: #f6fafa; line-height: 1.21429em; padding: 10px;\">\n",
       "                    <div class=\"item_left\" style=\"width: 210px; float: left;\">\n",
       "                       <a href='http://www.arcgis.com/home/item.html?id=b2b34466935b4dcb930b999a8ee787da' target='_blank'>\n",
       "                        <img src='http://www.arcgis.com/sharing/rest//content/items/b2b34466935b4dcb930b999a8ee787da/info/thumbnail/ago_downloaded.png' class=\"itemThumbnail\">\n",
       "                       </a>\n",
       "                    </div>\n",
       "\n",
       "                    <div class=\"item_right\"     style=\"float: none; width: auto; overflow: hidden;\">\n",
       "                        <a href='http://www.arcgis.com/home/item.html?id=b2b34466935b4dcb930b999a8ee787da' target='_blank'><b>Współczynnik NBRC</b>\n",
       "                        </a>\n",
       "                        <br/><img src='http://www.arcgis.com/home/js/jsapi/esri/css/images/item_type_icons/featureshosted16.png' style=\"vertical-align:middle;\">Feature Layer Collection by m.brach\n",
       "                        <br/>Last Modified: grudzień 30, 2016\n",
       "                        <br/>0 comments, 0 views\n",
       "                    </div>\n",
       "                </div>\n",
       "                "
      ],
      "text/plain": [
       "<Item title:\"Współczynnik NBRC\" type:Feature Service owner:m.brach>"
      ]
     },
     "metadata": {},
     "output_type": "display_data"
    }
   ],
   "source": [
    "items = gis.content.search(\"Współczynnik NBRC\", max_items=2)\n",
    "for item in items:\n",
    "    display(item)"
   ]
  },
  {
   "cell_type": "code",
   "execution_count": 8,
   "metadata": {
    "collapsed": false
   },
   "outputs": [],
   "source": [
    "nbrc_points = items[0].layers[0]\n",
    "map1 = gis.map(\"Rogożynek\", zoomlevel=15)\n",
    "map1.add_layer(nbrc_points)\n",
    "map1.basemap = \"hybrid\"\n",
    "map1"
   ]
  },
  {
   "cell_type": "code",
   "execution_count": 7,
   "metadata": {
    "collapsed": false
   },
   "outputs": [],
   "source": [
    "#Niestety przez kwestie licencyjne nie udało się zrealizować\n",
    "#from arcgis.raster.analytics import convert_feature_to_raster\n",
    "\n",
    "#model_rast = convert_feature_to_raster(nbrc_points, output_cell_size=5, value_field='model')\n",
    "#map1.add_layer(model_rast)\n",
    "#map1"
   ]
  },
  {
   "cell_type": "code",
   "execution_count": 37,
   "metadata": {
    "collapsed": false
   },
   "outputs": [
    {
     "data": {
      "text/html": [
       "<div>\n",
       "<table border=\"1\" class=\"dataframe\">\n",
       "  <thead>\n",
       "    <tr style=\"text-align: right;\">\n",
       "      <th></th>\n",
       "      <th>model</th>\n",
       "      <th>pomiar1</th>\n",
       "      <th>pomiar2</th>\n",
       "      <th>x (easting)</th>\n",
       "      <th>y (northing)</th>\n",
       "    </tr>\n",
       "  </thead>\n",
       "  <tbody>\n",
       "    <tr>\n",
       "      <th>0</th>\n",
       "      <td>5.0</td>\n",
       "      <td>6.2</td>\n",
       "      <td>7.7</td>\n",
       "      <td>793135.7146</td>\n",
       "      <td>658291.6018</td>\n",
       "    </tr>\n",
       "    <tr>\n",
       "      <th>1</th>\n",
       "      <td>8.0</td>\n",
       "      <td>9.0</td>\n",
       "      <td>6.7</td>\n",
       "      <td>793190.3643</td>\n",
       "      <td>658247.9410</td>\n",
       "    </tr>\n",
       "    <tr>\n",
       "      <th>2</th>\n",
       "      <td>9.1</td>\n",
       "      <td>9.0</td>\n",
       "      <td>9.0</td>\n",
       "      <td>793157.5543</td>\n",
       "      <td>658219.2045</td>\n",
       "    </tr>\n",
       "    <tr>\n",
       "      <th>3</th>\n",
       "      <td>7.0</td>\n",
       "      <td>6.4</td>\n",
       "      <td>7.8</td>\n",
       "      <td>793116.1248</td>\n",
       "      <td>658177.3724</td>\n",
       "    </tr>\n",
       "    <tr>\n",
       "      <th>4</th>\n",
       "      <td>5.0</td>\n",
       "      <td>6.5</td>\n",
       "      <td>7.8</td>\n",
       "      <td>793173.3223</td>\n",
       "      <td>658168.3989</td>\n",
       "    </tr>\n",
       "    <tr>\n",
       "      <th>5</th>\n",
       "      <td>7.0</td>\n",
       "      <td>7.4</td>\n",
       "      <td>8.2</td>\n",
       "      <td>793097.3189</td>\n",
       "      <td>658125.9706</td>\n",
       "    </tr>\n",
       "    <tr>\n",
       "      <th>6</th>\n",
       "      <td>6.0</td>\n",
       "      <td>5.2</td>\n",
       "      <td>6.7</td>\n",
       "      <td>793150.2073</td>\n",
       "      <td>658110.4487</td>\n",
       "    </tr>\n",
       "    <tr>\n",
       "      <th>7</th>\n",
       "      <td>6.0</td>\n",
       "      <td>6.3</td>\n",
       "      <td>7.0</td>\n",
       "      <td>793093.0079</td>\n",
       "      <td>658069.1978</td>\n",
       "    </tr>\n",
       "    <tr>\n",
       "      <th>8</th>\n",
       "      <td>8.0</td>\n",
       "      <td>8.1</td>\n",
       "      <td>8.2</td>\n",
       "      <td>793144.3299</td>\n",
       "      <td>658053.5775</td>\n",
       "    </tr>\n",
       "    <tr>\n",
       "      <th>9</th>\n",
       "      <td>11.0</td>\n",
       "      <td>9.5</td>\n",
       "      <td>10.8</td>\n",
       "      <td>793234.8286</td>\n",
       "      <td>658291.5329</td>\n",
       "    </tr>\n",
       "  </tbody>\n",
       "</table>\n",
       "</div>"
      ],
      "text/plain": [
       "   model  pomiar1  pomiar2  x (easting)  y (northing)\n",
       "0    5.0      6.2      7.7  793135.7146   658291.6018\n",
       "1    8.0      9.0      6.7  793190.3643   658247.9410\n",
       "2    9.1      9.0      9.0  793157.5543   658219.2045\n",
       "3    7.0      6.4      7.8  793116.1248   658177.3724\n",
       "4    5.0      6.5      7.8  793173.3223   658168.3989\n",
       "5    7.0      7.4      8.2  793097.3189   658125.9706\n",
       "6    6.0      5.2      6.7  793150.2073   658110.4487\n",
       "7    6.0      6.3      7.0  793093.0079   658069.1978\n",
       "8    8.0      8.1      8.2  793144.3299   658053.5775\n",
       "9   11.0      9.5     10.8  793234.8286   658291.5329"
      ]
     },
     "execution_count": 37,
     "metadata": {},
     "output_type": "execute_result"
    }
   ],
   "source": [
    "import numpy as np\n",
    "df = pd.read_csv(\"dane_pomiar_NBRC.csv\", sep=';')\n",
    "df.replace(',', '.', regex=True, inplace=True)\n",
    "df = df.apply(lambda x: pd.to_numeric(x, errors='ignore'))\n",
    "#df.iloc[0] - test typu kolumny\n",
    "df"
   ]
  },
  {
   "cell_type": "code",
   "execution_count": 75,
   "metadata": {
    "collapsed": false
   },
   "outputs": [
    {
     "data": {
      "text/plain": [
       "<FeatureCollection>"
      ]
     },
     "execution_count": 75,
     "metadata": {},
     "output_type": "execute_result"
    }
   ],
   "source": [
    "from arcgis.features import Feature, FeatureSet, FeatureCollection\n",
    "features = []\n",
    "for row in df.iterrows():\n",
    "    attr = {}\n",
    "    geom = {\n",
    "        \"spatialReference\": {\n",
    "            \"wkid\": 2180\n",
    "        },\n",
    "        \"x\": 0,\n",
    "        \"y\": 0\n",
    "    }\n",
    "    feature = Feature(geom, attr)\n",
    "    #geometry in feature.as_dict\n",
    "    features.append(feature)\n",
    "    #print(row)\n",
    "feature_set = FeatureSet(features, geometry_type='esriGeometryPoint')\n",
    "fc = FeatureCollection({'featureSet': feature_set})\n",
    "fc"
   ]
  }
 ],
 "metadata": {
  "anaconda-cloud": {},
  "kernelspec": {
   "display_name": "Python [default]",
   "language": "python",
   "name": "python3"
  },
  "language_info": {
   "codemirror_mode": {
    "name": "ipython",
    "version": 3
   },
   "file_extension": ".py",
   "mimetype": "text/x-python",
   "name": "python",
   "nbconvert_exporter": "python",
   "pygments_lexer": "ipython3",
   "version": "3.5.2"
  },
  "widgets": {
   "state": {
    "55755b7ae02647a8a003cef572c27a81": {
     "views": [
      {
       "cell_index": 3
      }
     ]
    }
   },
   "version": "1.2.0"
  }
 },
 "nbformat": 4,
 "nbformat_minor": 1
}
